{
 "cells": [
  {
   "cell_type": "code",
   "execution_count": 1,
   "metadata": {},
   "outputs": [],
   "source": [
    "import torchaudio\n",
    "import robust_whisper\n",
    "from robust_whisper.models import RobustWhisper"
   ]
  },
  {
   "cell_type": "code",
   "execution_count": 2,
   "metadata": {},
   "outputs": [],
   "source": [
    "robust_whisper_model = RobustWhisper()"
   ]
  },
  {
   "cell_type": "code",
   "execution_count": 6,
   "metadata": {},
   "outputs": [
    {
     "name": "stdout",
     "output_type": "stream",
     "text": [
      "The sun was setting, causing the warm orange glow over the landscape.\n"
     ]
    }
   ],
   "source": [
    "data, sr = torchaudio.load(r\"test_audio\\attack\\33_after_clipping_23.wav\")\n",
    "print(robust_whisper_model(data, sr))"
   ]
  }
 ],
 "metadata": {
  "kernelspec": {
   "display_name": "soda",
   "language": "python",
   "name": "python3"
  },
  "language_info": {
   "codemirror_mode": {
    "name": "ipython",
    "version": 3
   },
   "file_extension": ".py",
   "mimetype": "text/x-python",
   "name": "python",
   "nbconvert_exporter": "python",
   "pygments_lexer": "ipython3",
   "version": "3.8.16"
  },
  "orig_nbformat": 4
 },
 "nbformat": 4,
 "nbformat_minor": 2
}
